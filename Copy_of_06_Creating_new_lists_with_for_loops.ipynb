{
  "nbformat": 4,
  "nbformat_minor": 0,
  "metadata": {
    "colab": {
      "provenance": [],
      "include_colab_link": true
    },
    "kernelspec": {
      "name": "python3",
      "display_name": "Python 3"
    },
    "language_info": {
      "name": "python"
    }
  },
  "cells": [
    {
      "cell_type": "markdown",
      "metadata": {
        "id": "view-in-github",
        "colab_type": "text"
      },
      "source": [
        "<a href=\"https://colab.research.google.com/github/lemontebros/data-and-python-/blob/main/Copy_of_06_Creating_new_lists_with_for_loops.ipynb\" target=\"_parent\"><img src=\"https://colab.research.google.com/assets/colab-badge.svg\" alt=\"Open In Colab\"/></a>"
      ]
    },
    {
      "cell_type": "code",
      "source": [],
      "metadata": {
        "id": "X4KBhrOM2Fzz"
      },
      "execution_count": null,
      "outputs": []
    },
    {
      "cell_type": "markdown",
      "metadata": {
        "id": "Z-M-RCWATK71"
      },
      "source": [
        "# Lists and loops\n",
        "\n",
        "A `for` loop is a Python construct that allows us to repeat a set of instructions a given number of times.  When using a for loop with a list, it will repeat exactly the same number of times as there are items in the list.\n",
        "\n",
        "If we want to create a new list, we could do this systematically with a loop that executes a given number of times.\n",
        "\n",
        "We do this using the range() function to generate a list of numbers to work through:\n",
        "\n",
        "`for i in range(10):`  will loop through the numbers 0 to 9 (ten distinct numbers starting at 0)  \n",
        "\n",
        "`for i in range(2,11):` will loop through the numbers 2 to 10 (missing 11 as we need to specify where to stop, so start at 2 and stop **before** 11).  \n",
        "\n"
      ]
    },
    {
      "cell_type": "markdown",
      "source": [
        "---\n",
        "### Exercise 1 - number list\n",
        "\n",
        "Write a function called **list_numbers()** which will:  \n",
        "\n",
        "*  use a for loop to generate a new list containing all the whole numbers from 20 to 30 including both.       \n",
        "\n",
        "**Expected output**:  \n",
        "20  \n",
        "21  \n",
        "22  \n",
        "23  \n",
        "24  \n",
        "25  \n",
        "26  \n",
        "27  \n",
        "28  \n",
        "29  \n",
        "30    "
      ],
      "metadata": {
        "id": "jQWIC7v_eVzZ"
      }
    },
    {
      "cell_type": "code",
      "source": [
        "def list_numbers():\n",
        "\n",
        "  list=[*range(20,31)]\n",
        "  for category in list:\n",
        "    print(category)\n",
        "\n",
        "\n",
        "\n",
        "list_numbers()"
      ],
      "metadata": {
        "id": "R2pLE7FVe1-x",
        "colab": {
          "base_uri": "https://localhost:8080/"
        },
        "outputId": "40a3c853-3d5c-44ba-a1f2-8b59e445b957"
      },
      "execution_count": 9,
      "outputs": [
        {
          "output_type": "stream",
          "name": "stdout",
          "text": [
            "20\n",
            "21\n",
            "22\n",
            "23\n",
            "24\n",
            "25\n",
            "26\n",
            "27\n",
            "28\n",
            "29\n",
            "30\n"
          ]
        }
      ]
    },
    {
      "cell_type": "markdown",
      "source": [
        "---\n",
        "### Using steps\n",
        "In general, if we use a range, we give a starting number and a stopping number (the first number that is out of the range in the direction we are counting). The default is to count up in 1s.\n",
        "\n",
        "When we want a loop to count in bigger steps, we can add a further parameter in the range brackets, which represents the size of the step.\n",
        "\n",
        "e.g. to print the even numbers up to 10 (starting with the first even number)\n",
        "\n",
        "```\n",
        "for i in range(2,11,2):\n",
        "   print(i)\n",
        "```\n",
        "\n",
        "e.g. to print all multiples of 5 from 5 to 50 (starting with the first multiple)\n",
        "\n",
        "for i in range(5,51,5):\n",
        "   print(i)  \n",
        "\n",
        "We can use steps to reverse the direction of counting. So to count backwards from 10 to 1, we can use a step of -1. Again, use the starting number, the number AFTER the last number to be included, in the direction we are counting, and the size and direction of the step.\n",
        "\n",
        "```\n",
        "for i in range(10, 0, -1):\n",
        "   print(i)\n",
        "```\n",
        "\n"
      ],
      "metadata": {
        "id": "zXXWZsiMeS4A"
      }
    },
    {
      "cell_type": "markdown",
      "source": [
        "---\n",
        "### Exercise 2 - list of evens  \n",
        "\n",
        "Write a function called **list_evens()** which will:  \n",
        "\n",
        "*  use a for loop to generate a new list containing the even numbers from 2 to 20 (remember you can also count up in 2s)  \n",
        "*  print the list one item per line\n",
        "\n",
        "**Expected output**:  \n",
        "2  \n",
        "4  \n",
        "6  \n",
        "8  \n",
        "10  \n",
        "12  \n",
        "14  \n",
        "16  \n",
        "18  \n",
        "20  "
      ],
      "metadata": {
        "id": "RiRUjG-Pez4b"
      }
    },
    {
      "cell_type": "code",
      "source": [
        "def list_events():\n",
        "  list=[*range(2,21,2)]\n",
        "  for category in list:\n",
        "    print(category)\n",
        "\n",
        "list_events()"
      ],
      "metadata": {
        "id": "WAtuD4JEfgIR",
        "colab": {
          "base_uri": "https://localhost:8080/"
        },
        "outputId": "1991e257-f478-4493-c819-613a7db0d8d5"
      },
      "execution_count": 12,
      "outputs": [
        {
          "output_type": "stream",
          "name": "stdout",
          "text": [
            "2\n",
            "4\n",
            "6\n",
            "8\n",
            "10\n",
            "12\n",
            "14\n",
            "16\n",
            "18\n",
            "20\n"
          ]
        }
      ]
    },
    {
      "cell_type": "markdown",
      "source": [
        "---\n",
        "### Exercise 3 - list multiples  \n",
        "\n",
        "Write a function called **list_multiples()** which will:\n",
        "\n",
        "*  use a for loop to generate a new list containing the multiples of 3 from 3 to 36\n",
        "*  print the list one item per line\n",
        "\n",
        "Expected output:  \n",
        "3  \n",
        "6  \n",
        "9  \n",
        "12  \n",
        "15  \n",
        "18  \n",
        "21  \n",
        "24  \n",
        "27  \n",
        "30  \n",
        "33  \n",
        "36  "
      ],
      "metadata": {
        "id": "Tlrfzw8AfgmR"
      }
    },
    {
      "cell_type": "code",
      "source": [
        "def list_multiples():\n",
        "  list=[*range(3,37,3)]\n",
        "  for category in list:\n",
        "    print(category)\n",
        "\n",
        "list_multiples()"
      ],
      "metadata": {
        "id": "bxAEHcSmg5Gi",
        "colab": {
          "base_uri": "https://localhost:8080/"
        },
        "outputId": "bd0a23fe-6e92-40d3-b8be-bab9bfad5c35"
      },
      "execution_count": 15,
      "outputs": [
        {
          "output_type": "stream",
          "name": "stdout",
          "text": [
            "3\n",
            "6\n",
            "9\n",
            "12\n",
            "15\n",
            "18\n",
            "21\n",
            "24\n",
            "27\n",
            "30\n",
            "33\n",
            "36\n"
          ]
        }
      ]
    },
    {
      "cell_type": "markdown",
      "source": [
        "---\n",
        "### Exercise 4 - reverse list\n",
        "\n",
        "Write a function called list_reverse() which will:\n",
        "\n",
        "*  use a for loop to generate a new list containing the numbers 5 to 15 in reverse  \n",
        "*  print the list, one item per line\n",
        "\n",
        "Expected output:  \n",
        "15  \n",
        "14  \n",
        "13  \n",
        "12  \n",
        "11  \n",
        "10  \n",
        "9  \n",
        "8  \n",
        "7  \n",
        "6  \n",
        "5  "
      ],
      "metadata": {
        "id": "BhXUJwiMf9qJ"
      }
    },
    {
      "cell_type": "code",
      "source": [
        "def list_reverse():\n",
        "  list=[*range(15,4,-1)]\n",
        "  for category in list:\n",
        "    print(category)\n",
        "\n",
        "list_reverse()"
      ],
      "metadata": {
        "id": "lPOBhSI2g7WI",
        "colab": {
          "base_uri": "https://localhost:8080/"
        },
        "outputId": "84e1ac43-aa00-4d91-88e3-fa8dc64e6d4b"
      },
      "execution_count": 20,
      "outputs": [
        {
          "output_type": "stream",
          "name": "stdout",
          "text": [
            "15\n",
            "14\n",
            "13\n",
            "12\n",
            "11\n",
            "10\n",
            "9\n",
            "8\n",
            "7\n",
            "6\n",
            "5\n"
          ]
        }
      ]
    },
    {
      "cell_type": "markdown",
      "source": [
        "---\n",
        "### Exercise 5 - calculating times table (Challenging)\n",
        "\n",
        "Write a function called **display_times_table()** which will:  \n",
        "\n",
        "*  ask the user to input a **number**\n",
        "*  use a for loop to generate a list of the multiples of that number (use a for loop and the `range()` function to calculate the first ten multiples of that number)  \n",
        "*  print a times table entry as shown below for each item in the list\n",
        "\n",
        "Test Input:  \n",
        "4  \n",
        "\n",
        "Expected output:  \n",
        "1 x 4 = 4  \n",
        "2 x 4 = 8  \n",
        "3 x 4 = 12  \n",
        "4 x 4 = 16  \n",
        "5 x 4 = 20  \n",
        "6 x 4 = 24  \n",
        "7 x 4 = 28  \n",
        "8 x 4 = 32  \n",
        "9 x 4 = 36  \n",
        "10 x 4 = 40  "
      ],
      "metadata": {
        "id": "Wz3qjHPVhfp8"
      }
    },
    {
      "cell_type": "code",
      "metadata": {
        "id": "UqV817Ct-5qv",
        "colab": {
          "base_uri": "https://localhost:8080/"
        },
        "outputId": "c65ed5bc-00da-4a41-ba81-aa2dcb5e032d"
      },
      "source": [
        "def display_times_table():\n",
        "\n",
        "  number=int(input(\"What times table do you want displayed? : \"))\n",
        "  #setting a loop/ list item number counter - index\n",
        "  index=0\n",
        "  #creating a list with increasing numbers in the times tablew requested up to 10x\n",
        "  list=[*range(number,number*10+1,number)]\n",
        "    for category in list:\n",
        "    #add 1 to loop/ list item number counter\n",
        "    index=index+1\n",
        "\n",
        "    print(index,\" x \",number,\" = \",category)\n",
        "\n",
        "display_times_table()"
      ],
      "execution_count": 31,
      "outputs": [
        {
          "output_type": "stream",
          "name": "stdout",
          "text": [
            "What times table do you want displayed? : 4\n",
            "1  x  4  =  4\n",
            "2  x  4  =  8\n",
            "3  x  4  =  12\n",
            "4  x  4  =  16\n",
            "5  x  4  =  20\n",
            "6  x  4  =  24\n",
            "7  x  4  =  28\n",
            "8  x  4  =  32\n",
            "9  x  4  =  36\n",
            "10  x  4  =  40\n"
          ]
        }
      ]
    },
    {
      "cell_type": "markdown",
      "metadata": {
        "id": "jOukVT7--6rI"
      },
      "source": [
        "### Exercise 6 - counting down numbers in reverse\n",
        "\n",
        "Write a function called **countdown()** which will:\n",
        "\n",
        "*  ask the user to input a **number**\n",
        "*  prints numbers in a countdown starting at `number`, decreasing by 1 each time round the loop and finishing at 1\n",
        "*  after the loop, print (\"GO\")  (*Hint: only instructions indented to the same level under the 'for' instruction are part of the loop, as soon as you stop indenting to that level, and go back to the level above the 'for' these instructions are no longer in the loop*)\n",
        "\n",
        "Test Input:  \n",
        "9    \n",
        "\n",
        "Expected output:   \n",
        "9  \n",
        "8  \n",
        "7  \n",
        "6  \n",
        "5  \n",
        "4  \n",
        "3  \n",
        "2  \n",
        "1  \n",
        "GO  \n"
      ]
    },
    {
      "cell_type": "code",
      "metadata": {
        "id": "0yZ7PP7HAVdO",
        "colab": {
          "base_uri": "https://localhost:8080/"
        },
        "outputId": "1ce487e6-508c-4207-9ef5-c5307e3f68a2"
      },
      "source": [
        "def countdown():\n",
        "\n",
        "  number=int(input(\"What number would you like to countdown from? : \"))\n",
        "  list=[*range(number,0,-1)]\n",
        "  if number > 0:\n",
        "    for category in list:\n",
        "      print(category)\n",
        "    print(\"Liftoff!\")\n",
        "\n",
        "  if number < 1:\n",
        "    print(\"This is strictly a countdown machine, not for counting up!\")\n",
        "    print(\"****BOOM****\")\n",
        "countdown()"
      ],
      "execution_count": 49,
      "outputs": [
        {
          "output_type": "stream",
          "name": "stdout",
          "text": [
            "What number would you like to countdown from? : 5\n",
            "5\n",
            "4\n",
            "3\n",
            "2\n",
            "1\n",
            "Liftoff!\n"
          ]
        }
      ]
    },
    {
      "cell_type": "markdown",
      "source": [
        "---\n",
        "# List comprehension (generating new lists with lists of numbers)\n",
        "\n",
        "You can use a special format for creating lists so that rather than typing all items of the list individually, they will be generated using Python code.\n",
        "\n",
        "**Examples:**\n",
        "\n",
        "Generate a list of twelve 0s (\n",
        "\n",
        "`zero_list = [0 for x in range(12)]`\n",
        "\n",
        "Generate a list of the numbers from 0 to 49\n",
        "\n",
        "`fifty_list = [x for x in range(50)]`\n",
        "\n",
        "Generate a list of the first 10 square numbers\n",
        "\n",
        "`squares_list = [ x**2 for x in range(10)]`\n",
        "\n",
        "Generate a list of the numbers from 5 to 15\n",
        "\n",
        "`numbers_list = [x for x in range(5, 16)]`\n",
        "\n",
        "Think about how these lists are being generated.  The first part describes what x will look like (always 0, the current number or the square of the current number)  the part `for x in range(...)` describes the number of items in the list and can sometimes be used to determine value.\n",
        "\n",
        "Use the code box below to see what the output of the lists suggested above would look like."
      ],
      "metadata": {
        "id": "ozooDZjhRI_C"
      }
    },
    {
      "cell_type": "code",
      "source": [
        "generated_list =[0 for x in range(12)]\n",
        "print(generated_list)\n",
        "generated_list =[x for x in range(50)]\n",
        "print(generated_list)\n",
        "generated_list =[ x**2 for x in range(10)]\n",
        "print(generated_list)\n",
        "generated_list =[x for x in range(5, 16)]\n",
        "print(generated_list)\n"
      ],
      "metadata": {
        "id": "rwjLa22yRvlw",
        "colab": {
          "base_uri": "https://localhost:8080/"
        },
        "outputId": "51dd150c-e7e6-46d5-96fe-7f8629f51b8e"
      },
      "execution_count": 58,
      "outputs": [
        {
          "output_type": "stream",
          "name": "stdout",
          "text": [
            "[0, 0, 0, 0, 0, 0, 0, 0, 0, 0, 0, 0]\n",
            "[0, 1, 2, 3, 4, 5, 6, 7, 8, 9, 10, 11, 12, 13, 14, 15, 16, 17, 18, 19, 20, 21, 22, 23, 24, 25, 26, 27, 28, 29, 30, 31, 32, 33, 34, 35, 36, 37, 38, 39, 40, 41, 42, 43, 44, 45, 46, 47, 48, 49]\n",
            "[0, 1, 4, 9, 16, 25, 36, 49, 64, 81]\n",
            "[5, 6, 7, 8, 9, 10, 11, 12, 13, 14, 15]\n"
          ]
        }
      ]
    },
    {
      "cell_type": "markdown",
      "source": [
        "---\n",
        "### Exercise 7 - generate a list of numbers from 1 to 10\n",
        "\n",
        "Write a function **generate_number_list()** that will:\n",
        "\n",
        "*  use list comprehension techniques to create a list of all the whole numbers between 1 and 10\n",
        "*  use a for loop to print the list one number per line\n"
      ],
      "metadata": {
        "id": "PVAdsXHLQqZt"
      }
    },
    {
      "cell_type": "code",
      "source": [
        "def generate_number_list():\n",
        "  list =[x+1 for x in range(10)]\n",
        "  for category in list:\n",
        "    print(category)\n",
        "\n",
        "\n",
        "\n",
        "generate_number_list()"
      ],
      "metadata": {
        "id": "6jqnXL0rUiZj",
        "colab": {
          "base_uri": "https://localhost:8080/"
        },
        "outputId": "3d8c8675-1177-4a56-9b5a-9943aa963b43"
      },
      "execution_count": 61,
      "outputs": [
        {
          "output_type": "stream",
          "name": "stdout",
          "text": [
            "1\n",
            "2\n",
            "3\n",
            "4\n",
            "5\n",
            "6\n",
            "7\n",
            "8\n",
            "9\n",
            "10\n"
          ]
        }
      ]
    },
    {
      "cell_type": "markdown",
      "source": [
        "---\n",
        "### Optional challenge - generate a list of the letters between A and Z using the ord() function\n",
        "\n",
        "Computers recognise letter as number codes (ASCII codes).  In this coding system the letter A is coded 65, the letter Z is coded 90 and all the other capital letters have the numbers in between, in order.\n",
        "\n",
        "To get the letter, use chr(code)  e.g. chr(65) will give A, chr(68) will give D\n",
        "\n",
        "Write a function **generate_alphabet()** that will:\n",
        "\n",
        "*  use list comprehension to create the list of letters from A to Z using the numbers from 65 to 90 and converting the number (x) to its letter using chr(x)\n",
        "*  print the list to show the alphabet"
      ],
      "metadata": {
        "id": "O0NS2nwuUi73"
      }
    },
    {
      "cell_type": "code",
      "source": [
        "def generate_alphabet():\n",
        "  list= [x+65 for x in range(26)]\n",
        "\n",
        "  index=0\n",
        "  for category in list:\n",
        "    list[index] = chr(list[index])\n",
        "    print(list[index])\n",
        "    index= index+1\n",
        "\n",
        "generate_alphabet()"
      ],
      "metadata": {
        "id": "8zsQQkNDV9ur",
        "colab": {
          "base_uri": "https://localhost:8080/"
        },
        "outputId": "f3a18ef6-6e5c-4b63-9f17-f202a630cc00"
      },
      "execution_count": 86,
      "outputs": [
        {
          "output_type": "stream",
          "name": "stdout",
          "text": [
            "A\n",
            "B\n",
            "C\n",
            "D\n",
            "E\n",
            "F\n",
            "G\n",
            "H\n",
            "I\n",
            "J\n",
            "K\n",
            "L\n",
            "M\n",
            "N\n",
            "O\n",
            "P\n",
            "Q\n",
            "R\n",
            "S\n",
            "T\n",
            "U\n",
            "V\n",
            "W\n",
            "X\n",
            "Y\n",
            "Z\n"
          ]
        }
      ]
    },
    {
      "cell_type": "markdown",
      "source": [
        "---\n",
        "# Takeaways\n",
        "\n",
        "*  the range() function will generate a list of integers either from 0 up to a given number e.g. `range(6)` or between two given numbers e.g. `range(10,20)`\n",
        "* by default, a range will count up in intervals of 1 but you can tell it to count up with any interval, e.g. range(1,10,2) to count up in 2s or range(30, 10, -1) to count backwards  \n",
        "*  there is a special syntax for creating lists like this in one line, called list comprehension\n",
        "*  a list of characters can be generated in this way as they are actually stored as numbers.  ord(character) will get the number and chr(number) will convert the number into the character.  Capital letters use the numbers from 65(A) to 90(Z), lower case letters use the numbers from 97(a) to 122(z)"
      ],
      "metadata": {
        "id": "HB_-DlaMzujh"
      }
    },
    {
      "cell_type": "markdown",
      "source": [
        "# Your thoughts on what you have learnt  \n",
        "\n",
        "Please add some comments in the box below to reflect on what you have learnt through completing this worksheet, and any problems you encountered while doing so."
      ],
      "metadata": {
        "id": "-YmBfGdyhrLI"
      }
    },
    {
      "cell_type": "markdown",
      "source": [],
      "metadata": {
        "id": "fvaBWUBzh28v"
      }
    }
  ]
}