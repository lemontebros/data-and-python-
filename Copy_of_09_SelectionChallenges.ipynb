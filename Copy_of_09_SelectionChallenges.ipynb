{
  "nbformat": 4,
  "nbformat_minor": 0,
  "metadata": {
    "colab": {
      "provenance": [],
      "include_colab_link": true
    },
    "kernelspec": {
      "name": "python3",
      "display_name": "Python 3"
    }
  },
  "cells": [
    {
      "cell_type": "markdown",
      "metadata": {
        "id": "view-in-github",
        "colab_type": "text"
      },
      "source": [
        "<a href=\"https://colab.research.google.com/github/lemontebros/data-and-python-/blob/main/Copy_of_09_SelectionChallenges.ipynb\" target=\"_parent\"><img src=\"https://colab.research.google.com/assets/colab-badge.svg\" alt=\"Open In Colab\"/></a>"
      ]
    },
    {
      "cell_type": "markdown",
      "metadata": {
        "id": "-QxAKPD8DZfj"
      },
      "source": [
        "# Three selection challenges\n",
        "\n",
        "---\n"
      ]
    },
    {
      "cell_type": "markdown",
      "metadata": {
        "id": "f0R4GYTEFQS-"
      },
      "source": [
        "### Challenge 1 - triangle shape  \n",
        "\n",
        "Write a function called **evaluate_triangle_shape()** which will check if a triangle is equilateral, isosceles or scalene, based on the three side lengths entered by a user (**x**, **y** and **z**).\n",
        "\n",
        "An equilateral triangle is one in which all three sides are equal.\n",
        "A scalene triangle is one that has three unequal sides.\n",
        "An isosceles triangle is one with (at least) two equal sides.\n",
        "\n",
        "For example:  \n",
        "\n",
        "A triange with side lengths                                 \n",
        "x: 6                                                                    \n",
        "y: 8                                                                    \n",
        "z: 12                                                                   \n",
        "is a *Scalene triangle*\n",
        "\n",
        "A triangle with side lengths  \n",
        "x:5  \n",
        "y:3   \n",
        "z:5  \n",
        "is an *Isosceles triangle*"
      ]
    },
    {
      "cell_type": "code",
      "metadata": {
        "id": "oBgl4ro1DVL0",
        "colab": {
          "base_uri": "https://localhost:8080/"
        },
        "outputId": "1e17d8d8-6a14-4d17-a022-cacd64aabb08"
      },
      "source": [
        "def evaluate_triangle_shape():\n",
        "  x=float(0)\n",
        "  y=float(0)\n",
        "  z=float(0)\n",
        "  # Thought it was worth preventing any side being entered as zero. did not bother stopping string entry error\n",
        "  while x<=0 or y<=0 or z<=0:\n",
        "    print(\"Enter the 3 lengths of your triangle\")\n",
        "    x=float(input(\"please enter the length of side 1 (x) : \"))\n",
        "    y=float(input(\"please enter the length of side 2 (y) : \"))\n",
        "    z=float(input(\"please enter the length of side 3 (z) : \"))\n",
        "\n",
        "  if x==y==z:\n",
        "    print(\"All three sides are the same length, this is an equilateral triangle\")\n",
        "  elif x==y or x==z or y==z:\n",
        "    print(\"2 sides are the same length, this is a isosceles triangle\")\n",
        "  else:\n",
        "    print(\"no sides are the same length, this is a scalene triangle\")\n",
        "\n",
        "evaluate_triangle_shape()"
      ],
      "execution_count": null,
      "outputs": [
        {
          "output_type": "stream",
          "name": "stdout",
          "text": [
            "Enter the 3 lengths of your triangle\n",
            "please enter the length of side 1 (x) : 123\n",
            "please enter the length of side 2 (y) : 2\n",
            "please enter the length of side 3 (z) : 45\n",
            "no sides are the same length, this is a scalene triangle\n"
          ]
        }
      ]
    },
    {
      "cell_type": "markdown",
      "metadata": {
        "id": "hr2EotkqG33l"
      },
      "source": [
        "---\n",
        "### Challenge 2 - which season\n",
        "\n",
        "Write a function called **determine_season()** which will ask the user to enter two integers representing a **month** and **day** and will calculate and print the season for that month and day.\n",
        "\n",
        "Note:  for this exercise the season dates are:\n",
        "*  Winter December 21 to March 20    \n",
        "*  Spring March 21 to June 20  \n",
        "*  Summer June 21 to September 20  \n",
        "*  Autumn September 21 to December 20\n",
        "\n",
        "**Test input for July 31st**:  \n",
        "Input the month (e.g. January, February etc.): 7                     \n",
        "Input the day: 31                                                       \n",
        "\n",
        "**Expected output**:  \n",
        "Season is summer\n",
        "\n",
        "*Note: this will require multiple and/or operators and you should use brackets to help Python know which operations to do first*  \n",
        "\n",
        "*For an extra challenge you can check that the day is valid for the month*"
      ]
    },
    {
      "cell_type": "code",
      "metadata": {
        "id": "cvbfz8nzG4IL",
        "colab": {
          "base_uri": "https://localhost:8080/"
        },
        "outputId": "f2dc3a9a-ccbd-49de-ce3b-cd23b862f3d4"
      },
      "source": [
        "def determine_season():\n",
        "  month=int(0)\n",
        "  day=int(0)\n",
        "  days_in_month=[31,28,31,30,31,30,31,31,30,31,30,31]\n",
        "\n",
        "  while month<=0 or day<=0 or month > 12 or day > days_in_month[month-1] :\n",
        "    print(\"Enter the month then the day as integers\")\n",
        "    month=int(input(\"Month : \"))\n",
        "    day=int(input(\"Day : \"))\n",
        "    if month == 2 and day == 29 :\n",
        "      print (\"The season is winter\")\n",
        "      break\n",
        "\n",
        "\n",
        "\n",
        "\n",
        "\n",
        "  day_of_year = sum(days_in_month[0:month-1])+day\n",
        "\n",
        "  #non leap year - spring starts day 80 summer day 172 autumn day 263 winter day 355\n",
        "\n",
        "  if day_of_year <80 or day_of_year >=355 :\n",
        "    print (\"The season is winter\")\n",
        "\n",
        "  elif day_of_year >=80 and day_of_year <172 :\n",
        "    print (\"The season is spring\")\n",
        "\n",
        "  elif day_of_year >=172 and day_of_year <263 :\n",
        "    print (\"The season is summer\")\n",
        "\n",
        "  elif day_of_year >=172 and day_of_year <355 :\n",
        "    print (\"The season is autumn\")\n",
        "\n",
        "\n",
        "\n",
        "\n",
        "\n",
        "\n",
        "\n",
        "\n",
        "determine_season()\n"
      ],
      "execution_count": null,
      "outputs": [
        {
          "output_type": "stream",
          "name": "stdout",
          "text": [
            "Enter the month then the day as integers\n",
            "Month : 11\n",
            "Day : 31\n",
            "Enter the month then the day as integers\n",
            "Month : 11\n",
            "Day : 30\n",
            "The season is autumn\n"
          ]
        }
      ]
    },
    {
      "cell_type": "markdown",
      "metadata": {
        "id": "2KYUALILDcM9"
      },
      "source": [
        "---\n",
        "### Challenge 3 - password format  \n",
        "\n",
        "Write a function called **check_password_valid()** which will check the validity of a **password** input by a user.\n",
        "\n",
        "Rules for a valid password are:  \n",
        "\n",
        "*  At least 1 letter between [a-z] and 1 letter between [A-Z].\n",
        "*  At least 1 number between [0-9].\n",
        "*  At least 1 character from [$#@].\n",
        "*  Minimum length 6 characters.\n",
        "*  Maximum length 16 characters.  \n",
        "\n",
        "Let the user know if the `password` they have typed is valid and, if not, where was the first error.\n",
        "\n",
        "*Hint:  to test if a set of characters is present in a password String, you can use re.search('[character set]', `password`)*  \n",
        "\n",
        "Example:   \n",
        "*if re.search('[a-z]',`password`):*    \n",
        "if there is at least 1 character a-z in the password, `re.search` **will not be None**\n",
        "\n",
        "You can test if re.search('[a-z]') is not None like this:\n",
        "`if re.search('[a-z]') is not None:`\n",
        "\n",
        "**re** is a pre-written Python function for pattern searching in Strings.  It has been imported for you in the code cell below.  "
      ]
    },
    {
      "cell_type": "code",
      "metadata": {
        "id": "8wBK9IA4BO2e",
        "colab": {
          "base_uri": "https://localhost:8080/"
        },
        "outputId": "c8681a76-afac-4a1a-a7fe-74232d03f33f"
      },
      "source": [
        "import re\n",
        "\n",
        "# add your check_PasswordValid() function and call below here\n",
        "\n",
        "\n",
        "\n",
        "def check_password_valid():\n",
        "  rules=[\"These are the criteria :\",\"At least 1 letter between a-z and 1 letter between A-Z\",\"At least 1 number between 0-9\",\"At least 1 character from $#@\",\"Minimum length 6 characters.\",\"Maximum length 16 characters.\",\"\"]\n",
        "  for category in rules:\n",
        "    print (category)\n",
        "\n",
        "  password=input(\"Enter a password to test it against the criteria : \")\n",
        "  if re.search('[a-z]', password):\n",
        "    if re.search('[A-Z]', password):\n",
        "      if re.search('[0-9]', password):\n",
        "        if re.search('[$#@]', password):\n",
        "          if len(password)>5 :\n",
        "            if len(password)<17 :\n",
        "              print(\"Your password meets the criteria.\")\n",
        "            else:\n",
        "              print(\"your password is too long\")\n",
        "          else:\n",
        "            print(\"Your password is too short\")\n",
        "        else:\n",
        "          print(\"your password does not contain any of these characters : $#@  \")\n",
        "      else:\n",
        "        print(\"your password does not contain a character 0-9 .\")\n",
        "    else:\n",
        "      print(\"your Password does not contain a character A-Z (lowercase).\")\n",
        "  else:\n",
        "    print(\"your password does not contain a character a-z (lowercase).\")\n",
        "\n",
        "\n",
        "\n",
        "\n",
        "check_password_valid()\n",
        "\n"
      ],
      "execution_count": 22,
      "outputs": [
        {
          "output_type": "stream",
          "name": "stdout",
          "text": [
            "These are the criteria :\n",
            "At least 1 letter between a-z and 1 letter between A-Z\n",
            "At least 1 number between 0-9\n",
            "At least 1 character from $#@\n",
            "Minimum length 6 characters.\n",
            "Maximum length 16 characters.\n",
            "\n",
            "Enter a password to test it against the criteria : chocolaT3$\n",
            "Your password meets the criteria.\n"
          ]
        }
      ]
    },
    {
      "cell_type": "markdown",
      "source": [
        "---\n",
        "# Your thoughts on what you have learnt from these challenges  \n",
        "\n",
        "Please add some comments in the box below to reflect on what you have learnt through completing this worksheet, and any problems you encountered while doing so."
      ],
      "metadata": {
        "id": "xr6B589Youcr"
      }
    },
    {
      "cell_type": "markdown",
      "source": [],
      "metadata": {
        "id": "qIfjax_VovRz"
      }
    },
    {
      "cell_type": "markdown",
      "source": [
        "A good few chalenges to make me think through the data interogation in a mathematical/ logical way"
      ],
      "metadata": {
        "id": "p5jHw5MlSCIF"
      }
    }
  ]
}