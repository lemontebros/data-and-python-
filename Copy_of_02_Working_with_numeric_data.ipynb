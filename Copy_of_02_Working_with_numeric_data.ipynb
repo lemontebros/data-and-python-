{
  "nbformat": 4,
  "nbformat_minor": 0,
  "metadata": {
    "colab": {
      "provenance": [],
      "include_colab_link": true
    },
    "kernelspec": {
      "name": "python3",
      "display_name": "Python 3"
    }
  },
  "cells": [
    {
      "cell_type": "markdown",
      "metadata": {
        "id": "view-in-github",
        "colab_type": "text"
      },
      "source": [
        "<a href=\"https://colab.research.google.com/github/lemontebros/data-and-python-/blob/main/Copy_of_02_Working_with_numeric_data.ipynb\" target=\"_parent\"><img src=\"https://colab.research.google.com/assets/colab-badge.svg\" alt=\"Open In Colab\"/></a>"
      ]
    },
    {
      "cell_type": "markdown",
      "metadata": {
        "id": "3O7iro_BV0mL"
      },
      "source": [
        "# Operators - arithmetic\n",
        "\n",
        "---"
      ]
    },
    {
      "cell_type": "markdown",
      "metadata": {
        "id": "Nk7bg_hfLzu7"
      },
      "source": [
        "In Python, we can use the following arithmetic operators.  Listen to an explanation of these [here](https://drive.google.com/file/d/1UpUGO8ShCszAv6qH9ApPxKXO_o6Z5Us_/view?usp=sharing)   \n",
        "\n",
        "![Python operators](https://drive.google.com/uc?id=1EARs0OefvMwAULyNGGs01xYLW3lIAO9B)\n",
        "\n",
        "#### The `round()` function is useful when working with numbers\n",
        "\n",
        "**round()**\n",
        "\n",
        "This will round any decimal number it is given to a whole number (e.g. round(5.7) gives 6, round(5.2) gives 5).  This is more accurate than just taking the whole number part when a whole number is the requested output.\n",
        "\n",
        "To round to a certain number of decimal places, add the number of places after the number to round.  \n",
        "\n",
        "e.g. round(5.348, 2) gives 5.35, round(16.42,1) gives 16.4\n",
        "\n",
        "\n",
        "\n",
        "\n",
        "\n",
        "\n",
        "\n",
        "\n",
        "\n"
      ]
    },
    {
      "cell_type": "markdown",
      "metadata": {
        "id": "ohKiZuy-OnDN"
      },
      "source": [
        "---\n",
        "### Exercise 1 - multiplication of integers\n",
        "\n",
        "**Scenario**\n",
        "You are working with a dataset about dogs. It contains a set of data on a dog's age.  You have been asked to create a new set of data to record the dog's age in human years (7 times longer)\n",
        "\n",
        "**Task**\n",
        "\n",
        "Try this out with just three dog ages.\n",
        "\n",
        "Write a function called **calculate_dog_human_ages()** which will:  \n",
        "\n",
        "*  create three integer variables called **dog_age1**, **dog_age2**, **dog_age3**\n",
        "*  calculate each dog's age in human years by multiplying it by 7, assigning it to a new variable called **dog_human_age1**, etc  \n",
        "*  print the three ages in human years    \n",
        "\n",
        "**Test Input**:  \n",
        "dog_age1 = 6  \n",
        "dog_age2 = 2  \n",
        "dog_age3 = 14    \n",
        "\n",
        "**Expected output**:  \n",
        "42  \n",
        "14  \n",
        "98  \n"
      ]
    },
    {
      "cell_type": "code",
      "metadata": {
        "id": "kWpM2m4nO7Ir",
        "outputId": "57adbbb5-1439-4815-f978-40bdf066578c",
        "colab": {
          "base_uri": "https://localhost:8080/"
        }
      },
      "source": [
        "# write your function here, starting with the definition (think about the name - it should say what the function does)\n",
        "def calculate_dogs_age_into_human_age():\n",
        "  dog_age1 = int(6)\n",
        "  dog_age2 = int(2)\n",
        "  dog_age3 = int(14)\n",
        "  dog1_human_age = (dog_age1*7)\n",
        "  dog2_human_age = (dog_age2*7)\n",
        "  dog3_human_age = (dog_age3*7)\n",
        "  print (dog1_human_age)\n",
        "  print (dog2_human_age)\n",
        "  print (dog3_human_age)\n",
        "calculate_dogs_age_into_human_age()\n"
      ],
      "execution_count": null,
      "outputs": [
        {
          "output_type": "stream",
          "name": "stdout",
          "text": [
            "42\n",
            "14\n",
            "98\n"
          ]
        }
      ]
    },
    {
      "cell_type": "markdown",
      "metadata": {
        "id": "fvxtRRcfOnGr"
      },
      "source": [
        "---\n",
        "### Exercise 2 - calculating an average (BIDMAS)\n",
        "\n",
        "**Scenario**  \n",
        "A dataset holds a count of scoops of different flavours of ice cream bought from a seafront store during one summer. The owner needs to order for next year and can only order the same amount of each (to get a good discount).  Any flavour that is a way below average will be swapped to increase a flavour that is way above average.  \n",
        "\n",
        "Each number in the dataset represent the number of a particular flavour sold. The data is on paper and so will have to be typed in.  \n",
        "\n",
        "**Your task**  \n",
        "You have been asked to calculate the average number of scoops of each flavour.\n",
        "\n",
        "Write a function called **calculate_average()** which will:  \n",
        "\n",
        "*  ask the user for 5 separate numbers, **num1**, **num2**, etc  \n",
        "*  calculate the **average** of the five numbers\n",
        "*  print the `average`, rounded to the nearest whole number, use something like:  \n",
        " `rounded_average = round(average)`\n",
        "     \n",
        "*Hint: remember the BIDMAS order of operators and use brackets to change the order if necessary.*  \n",
        "*(B) - brackets, (I) - indices, (D) - division, (M) - multiplication, (A) - addition, (S) - subtraction*\n",
        "\n",
        "**Test Input**:  \n",
        "311  \n",
        "514  \n",
        "985  \n",
        "1678  \n",
        "50\n",
        "\n",
        "**Expected output**:  \n",
        "708"
      ]
    },
    {
      "cell_type": "code",
      "metadata": {
        "id": "jYtLq8olPRZM",
        "colab": {
          "base_uri": "https://localhost:8080/"
        },
        "outputId": "e8606b5d-cadc-4b6a-d636-8114d033c340"
      },
      "source": [
        "def icecream_averager_from_user_input() :\n",
        "\n",
        "  num1 = float(input(\"enter number of flavour 1 sold this year\"))\n",
        "  num2 = float(input(\"enter number of flavour 2 sold this year\"))\n",
        "  num3 = float(input(\"enter number of flavour 3 sold this year\"))\n",
        "  num4 = float(input(\"enter number of flavour 4 sold this year\"))\n",
        "  num5 = float(input(\"enter number of flavour 5 sold this year\"))\n",
        "\n",
        "  average_sold = float(round((num1 + num2 + num3 + num4 + num5)/5))\n",
        "  print (average_sold)\n",
        "\n",
        "icecream_averager_from_user_input()"
      ],
      "execution_count": null,
      "outputs": [
        {
          "output_type": "stream",
          "name": "stdout",
          "text": [
            "enter number of flavour 1 sold this year311\n",
            "enter number of flavour 2 sold this year514\n",
            "enter number of flavour 3 sold this year985\n",
            "enter number of flavour 4 sold this year1678\n",
            "enter number of flavour 5 sold this year50\n",
            "707.6\n"
          ]
        }
      ]
    },
    {
      "cell_type": "markdown",
      "metadata": {
        "id": "r9w0fiW-PR2D"
      },
      "source": [
        "---\n",
        "### Exercise 3 - converting values\n",
        "\n",
        "**Scenario**  \n",
        "A community health nurse has collected anonymous data about the heights of people who have attended a clinic during the day.  The heights are all recorded in metres.  To get the data ready for storage, the heights must be in centimetres, the last number in the data will be the average height (in cm).  The heights are all written on paper, there are 8 of them.\n",
        "\n",
        "**Your task**\n",
        "\n",
        "Write a function called **convert__to_cm()** which will:  \n",
        "\n",
        "*  ask the user to input the 8 heights (use **height1**, **height2**, etc)  \n",
        "*  convert each `height` to **height_cm** (multiply by 100)  \n",
        "*  for each print `height` and `height_centimetres`\n",
        "*  THEN, calculate the average height and print it rounded to a whole number of centimetres\n",
        "\n",
        "*Remember, height in metres is usually a decimal, so data type matters*  \n",
        "\n",
        "**Test Input**:  \n",
        "1.67  \n",
        "1.4  \n",
        "1.62  \n",
        "1.53  \n",
        "1.7  \n",
        "1.35  \n",
        "1.76  \n",
        "1.2   \n",
        "\n",
        "**Expected output**:  \n",
        "167  \n",
        "140  \n",
        "162  \n",
        "153  \n",
        "170  \n",
        "135  \n",
        "176  \n",
        "120  \n",
        "Average  \n",
        "153\n",
        "\n"
      ]
    },
    {
      "cell_type": "code",
      "metadata": {
        "id": "2dMgvQlUPirV",
        "colab": {
          "base_uri": "https://localhost:8080/"
        },
        "outputId": "eedbc89a-4c1a-4d89-c627-f1f23cdb73a1"
      },
      "source": [
        "def convert__to_cm() :\n",
        "  height1 = float(input(\"height 1 in metres please : \"))\n",
        "  height2 = float(input(\"height 2 in metres please : \"))\n",
        "  height3 = float(input(\"height 3 in metres please : \"))\n",
        "  height4 = float(input(\"height 4 in metres please : \"))\n",
        "  height5 = float(input(\"height 5 in metres please : \"))\n",
        "  height6 = float(input(\"height 6 in metres please : \"))\n",
        "  height7 = float(input(\"height 7 in metres please : \"))\n",
        "  height8 = float(input(\"height 8 in metres please : \"))\n",
        "  height1_cm = float(height1*100)\n",
        "  height2_cm = float(height2*100)\n",
        "  height3_cm = float(height3*100)\n",
        "  height4_cm = float(height4*100)\n",
        "  height5_cm = float(height5*100)\n",
        "  height6_cm = float(height6*100)\n",
        "  height7_cm = float(height7*100)\n",
        "  height8_cm = float(height8*100)\n",
        "\n",
        "  print(height1)\n",
        "  print(height1_cm)\n",
        "  print(height2)\n",
        "  print(height2_cm)\n",
        "  print(height3)\n",
        "  print(height3_cm)\n",
        "  print(height4)\n",
        "  print(height4_cm)\n",
        "  print(height5)\n",
        "  print(height5_cm)\n",
        "  print(height6)\n",
        "  print(height6_cm)\n",
        "  print(height7)\n",
        "  print(height7_cm)\n",
        "  print(height8)\n",
        "  print(height8_cm)\n",
        "\n",
        "  average_height = float(round((height1_cm + height2_cm + height3_cm + height4_cm + height5_cm + height6_cm + height7_cm + height8_cm)/8))\n",
        "  print (average_height)\n",
        "\n",
        "convert__to_cm()"
      ],
      "execution_count": 42,
      "outputs": [
        {
          "output_type": "stream",
          "name": "stdout",
          "text": [
            "height 1 in metres please : 123\n",
            "height 2 in metres please : 123\n",
            "height 3 in metres please : 123\n",
            "height 4 in metres please : 123\n",
            "height 5 in metres please : 123\n",
            "height 6 in metres please : 123\n",
            "height 7 in metres please : 125\n",
            "height 8 in metres please : 125\n",
            "123.0\n",
            "12300.0\n",
            "123.0\n",
            "12300.0\n",
            "123.0\n",
            "12300.0\n",
            "123.0\n",
            "12300.0\n",
            "123.0\n",
            "12300.0\n",
            "123.0\n",
            "12300.0\n",
            "125.0\n",
            "12500.0\n",
            "125.0\n",
            "12500.0\n",
            "12350.0\n"
          ]
        }
      ]
    },
    {
      "cell_type": "markdown",
      "metadata": {
        "id": "QTprQ2zhPi9L"
      },
      "source": [
        "---\n",
        "### Exercise 4 - float and formatting printing\n",
        "\n",
        "**Scenario**  \n",
        "\n",
        "At the time of writing, the exchange rate from Pounds (£) to Euros (€) is 1.16 (£1 = €1.16).  A dataset has share prices in pence (not pounds) and will need a new set of data added with the equivalent values in euros.\n",
        "\n",
        "**Your task**  \n",
        "\n",
        "Write a function called **convert_currency()** which will:\n",
        "\n",
        "You will use the file **\"sample_data/share_prices.txt\"** which should be pre-loaded in this worksheet.  If it isn't then download it from [here](https://drive.google.com/uc?id=17CwpYENup8UyOCma4ohPYQ317mfCfi67) and upload it into the sample data folder.  \n",
        "\n",
        "Before you start, take a look at the file in the sample data folder (double-click to open it) and decide what type of numbers you are dealing with (int or float?)\n",
        "\n",
        "*  read an amount in **pence** from the text file \"sample_data/share_prices.txt\" for each of the first FOUR prices in the list only  \n",
        "*  convert to **pounds** without rounding\n",
        "*  calculate the equivalent number of **euros**  \n",
        "*  print `euros`, rounded to 2 decimal places  \n",
        "\n",
        "**Test Input**:  \n",
        "In file \"share_prices.txt\"\n",
        "\n",
        "**Expected output**:  \n",
        "€  \n",
        "35.66  \n",
        "30.05  \n",
        "1.37  \n",
        "26.19  \n",
        "\n",
        "\n",
        "\n",
        "\n",
        "*If your keyboard does not have the € euro sign, then you might get it by using ctrl+alt+4*"
      ]
    },
    {
      "cell_type": "code",
      "metadata": {
        "id": "DXqxS75kQWOm",
        "colab": {
          "base_uri": "https://localhost:8080/"
        },
        "outputId": "e8402bb4-250e-4d4a-d2ad-1b9a67f4718f"
      },
      "source": [
        "def GPB_pence_to_euro() :\n",
        "\n",
        "  with open(\"sample_data/share_prices.txt\", \"r\") as datafile:\n",
        "    share1 = float(datafile.readline())\n",
        "    share2 = float(datafile.readline())\n",
        "    share3 = float(datafile.readline())\n",
        "    share4 = float(datafile.readline())\n",
        "    share1euro = (round(share1*.0116,2 ))\n",
        "    share2euro = (round(share2*.0116,2 ))\n",
        "    share3euro = (round(share3*.0116,2 ))\n",
        "    share4euro = (round(share4*.0116,2 ))\n",
        "\n",
        "    print(\"The first four share prices read from share prices.txt as penny amounts and converted to  €\")\n",
        "    print (share1euro)\n",
        "    print (share2euro)\n",
        "    print (share3euro)\n",
        "    print (share4euro)\n",
        "\n",
        "\n",
        "\n",
        "GPB_pence_to_euro()\n",
        "\n",
        "\n",
        "\n",
        "\n"
      ],
      "execution_count": 56,
      "outputs": [
        {
          "output_type": "stream",
          "name": "stdout",
          "text": [
            "The first four share prices read from share prices.txt as penny amounts and converted to  €\n",
            "35.66\n",
            "30.05\n",
            "1.37\n",
            "26.19\n"
          ]
        }
      ]
    },
    {
      "cell_type": "markdown",
      "metadata": {
        "id": "Eur4tRWUQWYL"
      },
      "source": [
        "---\n",
        "### Exercise 5 - rounding\n",
        "\n",
        "**Scenario**\n",
        "\n",
        "The *number of thousands* of families visiting a popular seaside attraction, in the winter, spring, summer and autumn, respectively, are given below.\n",
        "\n",
        "**Your task**\n",
        "\n",
        "Write a function called **calculate_visitor_stats()** which will:  \n",
        "\n",
        "*  assign the numbers 3.145, 5.672, 9.34, 4.138 to the variables named for the respective season  \n",
        "*  calculate the **total** actual number of families over the year (as a whole number)  \n",
        "*  calculate the **average** number of thousands of families per season, rounded to 2 decimal places\n",
        "*  calculate the **income** generated over the year from family tickets, priced at £25 per family in the winter, £30 per family in the spring and autumn and £40 per family in the summer  \n",
        "*  print `total`, `average`, `income` in messages which are labelled (see expected output)   \n",
        "\n",
        "**Test input**:   \n",
        "Given above  \n",
        "\n",
        "**Expected output**:   \n",
        "Total families  \n",
        "22295    \n",
        "Average families per season (1000s)  \n",
        "5574  \n",
        "Total income (£)  \n",
        "746525\n",
        "\n",
        "\n",
        "*Remember to calculate the average you divide the total by the quantity of numbers, e.g. total/4*\n"
      ]
    },
    {
      "cell_type": "code",
      "metadata": {
        "id": "pD1lMOhuRZvd",
        "colab": {
          "base_uri": "https://localhost:8080/"
        },
        "outputId": "e6ea21fa-05a7-4415-98ab-2f304c51050e"
      },
      "source": [
        "def calculate_visitor_stats() :\n",
        "\n",
        "\n",
        "  winter_vis = float(1000*3.145)\n",
        "  spring_vis = float(1000*5.672)\n",
        "  summer_vis = float(1000*9.34)\n",
        "  autumn_vis = float(1000*4.138)\n",
        "  total_vis = round (((winter_vis + spring_vis + summer_vis + autumn_vis)))\n",
        "  quarter_year_average = round (total_vis/4)\n",
        "  total_income =round((winter_vis*25)+((spring_vis+autumn_vis)*30)+(summer_vis*40))\n",
        "  print(\"Total visitors.\")\n",
        "  print(total_vis)\n",
        "  print(\"quarter year average visitor number\")\n",
        "  print(quarter_year_average)\n",
        "  print(\"year total income (£)\")\n",
        "  print(total_income)\n",
        "\n",
        "\n",
        "\n",
        "\n",
        "calculate_visitor_stats()\n"
      ],
      "execution_count": 16,
      "outputs": [
        {
          "output_type": "stream",
          "name": "stdout",
          "text": [
            "Total visitors.\n",
            "22295\n",
            "quarter year average visitor number\n",
            "5574\n",
            "year total income (£)\n",
            "746525\n"
          ]
        }
      ]
    },
    {
      "cell_type": "markdown",
      "metadata": {
        "id": "jsV3uF5aRZ56"
      },
      "source": [
        "---\n",
        "### Exercise 6 - calculating volume\n",
        "\n",
        "**Scenario**\n",
        "\n",
        "Bill is a house mover. He has some data on cardboard packing boxes.  The data has the dimensions of packing boxes but not the volume that they hold.  He wants to add an extra piece of data for each that holds the volume.\n",
        "\n",
        "The calculation will be the same for each set of dimensions, so you should design the logic for this by writing a function that will calculate the volume for one box.  Then the same function can be used for each set of box dimensions.\n",
        "\n",
        "**Your task**\n",
        "\n",
        "Write a function called **calculate_volume()** which will:   \n",
        "\n",
        "*  assign the value 3.2, 5.6 and 7.8 to the variables **base**, **width** and **height** respectively  \n",
        "*  calculate the **box_volume** rounded to 1 decimal place  \n",
        "*  print the `box_volume`\n",
        "\n",
        "*Hint: volume = base x width x height*\n",
        "\n",
        "Expected output:  \n",
        "139.8\n"
      ]
    },
    {
      "cell_type": "code",
      "metadata": {
        "id": "WVLFFYayRwcN",
        "colab": {
          "base_uri": "https://localhost:8080/"
        },
        "outputId": "719d1c60-d231-419c-fc44-f19a8d568ac8"
      },
      "source": [
        "def calculate_volume():\n",
        "  base =float(3.2)\n",
        "  width =float(5.6)\n",
        "  height =float(7.8)\n",
        "  vol =round((base*width*height),1)\n",
        "  print(vol)\n",
        "calculate_volume()\n"
      ],
      "execution_count": 18,
      "outputs": [
        {
          "output_type": "stream",
          "name": "stdout",
          "text": [
            "139.8\n"
          ]
        }
      ]
    },
    {
      "cell_type": "markdown",
      "metadata": {
        "id": "Apy8QqKIB3_c"
      },
      "source": [
        "---\n",
        "### Using Floor Division  \n",
        "\n",
        "So far, we have been using standard arithmetic operators. If we would like to divide without remainders (eg. no decimals) we can use floor division using the // operator.  This will always round down.  \n",
        "\n",
        "For example:  \n",
        "42/8 = 5.75  \n",
        "BUT  \n",
        "42//8 = 5\n",
        "\n",
        "There are many cases where this type of division is useful and it is often used alongside the % (modulus) operator, which will give the remainder after the division (ie the bit that got dropped)"
      ]
    },
    {
      "cell_type": "markdown",
      "metadata": {
        "id": "eGo_VENXRwo0"
      },
      "source": [
        "---\n",
        "### Exercise 7 - calculating with volumes\n",
        "\n",
        "**Scenario**\n",
        "\n",
        "Bill would like a look up function to help him to calculate how many boxes he will need for a move.  He would like a function that will calculate how many boxes he needs once he has entered the volume of stuff. There can't be any stuff left over so even if the last bit won't fill a whole box, a box is still needed.\n",
        "\n",
        "**Your task**\n",
        "\n",
        "Building on what you did in the last exercise, write a function called **calculate_boxes()** which will:  \n",
        "\n",
        "*  calculate the volume of a box, using a **base** of 3.2, **width** of 5.6 and **height** of 7.8  \n",
        "*  ask Bill for the **total_volume** of the stuff he needs to move (use input() )  \n",
        "*  calculate the total **number_of_boxes** he will need, and print the `number_of_boxes`  \n",
        "\n",
        "*Hint: the `total` will not be a whole number - you should use floor division and add one to the answer (for the box that will have the leftovers).*\n",
        "\n",
        "Test Input:  \n",
        "1500  \n",
        "\n",
        "Expected output:  \n",
        "11  \n"
      ]
    },
    {
      "cell_type": "code",
      "source": [
        "def calculate_boxes():\n",
        "  base =float(3.2)\n",
        "  width =float(5.6)\n",
        "  height =float(7.8)\n",
        "  box_vol =(base*width*height)\n",
        "  total_volume = float(input(\"Bill! What volume are you packing : \"))\n",
        "  number_of_boxes =(total_volume// box_vol +1)\n",
        "\n",
        "  print (\"you will need this many boxes : \")\n",
        "  print (round(number_of_boxes))\n",
        "\n",
        "\n",
        "calculate_boxes()"
      ],
      "metadata": {
        "colab": {
          "base_uri": "https://localhost:8080/"
        },
        "id": "T3YU_f_Gv0Dw",
        "outputId": "71158791-bf9e-481f-b6c2-f9d2243c3a95"
      },
      "execution_count": 10,
      "outputs": [
        {
          "output_type": "stream",
          "name": "stdout",
          "text": [
            "Bill! What volume are you packing : 1500\n",
            " you will need this many boxes : \n",
            "11\n"
          ]
        }
      ]
    },
    {
      "cell_type": "code",
      "metadata": {
        "id": "0X6TKFubSIpT"
      },
      "source": [],
      "execution_count": null,
      "outputs": []
    },
    {
      "cell_type": "markdown",
      "metadata": {
        "id": "paxj6AccSIwy"
      },
      "source": [
        "---\n",
        "### Exercise 8 - parcel charge lookup\n",
        "\n",
        "**Scenario**\n",
        "\n",
        "A parcel delivery company needs to use it pricing data to allow desk staff to look up the price based on the weights of each set of parcels to be delivered for a customer.  This will be added to the data being stored\n",
        "\n",
        "**Your task**\n",
        "Write a function called **calculate_parcel_weight()** which will:  \n",
        "\n",
        "*  ask the user to enter the customer_reference, then the weights, in kg, of four parcels (**weight1, weight2, weight3, weight4**)\n",
        "*  calculate the total **parcel_weight** and display this in a whole number of kg, **always** rounded up to the next kg\n",
        "*  print the customer's reference followed by the total `parcel_weight`\n",
        "\n",
        "*Hint: if you use round(), it could either round up or down. In this scenario, we always need to round up.  Floor division could be a better option - always round down and then add one.  This way 8.11kg will be recorded as 9kg in the same way as 8.77kg would be charged as 9kg so that as long as it is **at least** 8kg, it is recorded as 9kg.* (dealing with exactly 8kg will be left for a later version)\n",
        "\n",
        "**Test Inputs**:  \n",
        "CUST1\n",
        "1.23  \n",
        "2.84  \n",
        "1.675  \n",
        "3.03  \n",
        "\n",
        "**Expected output**:  \n",
        "CUST1, 9kg\n"
      ]
    },
    {
      "cell_type": "code",
      "metadata": {
        "id": "Lulkpg6rStwT",
        "colab": {
          "base_uri": "https://localhost:8080/"
        },
        "outputId": "7e5116a6-dfef-446f-fd6a-de3d70100c39"
      },
      "source": [
        "def calculate_parcel_weight():\n",
        "  customer_reference =str(input(\"Customer reference: \"))\n",
        "  weight1 =float(input(\"Weight of parcel 1 : \"))\n",
        "  weight2 =float(input(\"Weight of parcel 2 : \"))\n",
        "  weight3 =float(input(\"Weight of parcel 3 : \"))\n",
        "  weight4 =float(input(\"Weight of parcel 4 : \"))\n",
        "  parcel_weight =((weight1+weight2+weight3+weight4)//1+1)\n",
        "  print(customer_reference, \" \", parcel_weight, \"KG\")\n",
        "\n",
        "\n",
        "\n",
        "\n",
        "calculate_parcel_weight()"
      ],
      "execution_count": 12,
      "outputs": [
        {
          "output_type": "stream",
          "name": "stdout",
          "text": [
            "Customer reference: ASD\n",
            "Weight of parcel 1 : 2\n",
            "Weight of parcel 2 : 2\n",
            "Weight of parcel 3 : 2\n",
            "Weight of parcel 4 : 2\n",
            "ASD   9.0 KG\n"
          ]
        }
      ]
    },
    {
      "cell_type": "markdown",
      "metadata": {
        "id": "SduMAQwsXKiA"
      },
      "source": [
        "---\n",
        "### Exercise 9 - modulus\n",
        "\n",
        "**Scenario**\n",
        "\n",
        "Your data analyst has some data which contains timestamps relating to activity that only happens in the afternoon.  These are stored in 24 hour format (e.g. 1350). The analyst needs to create two new columns in the dataset, one for the hour and one for the minutes, in 12 hour format (e.g. 1.50pm).  You have been asked to create a prototype for this so that it can be added to the data handling system.  \n",
        "\n",
        "**Your task**  \n",
        "\n",
        "Write a function called **get_pm_minutes()** which will:  \n",
        "\n",
        "*  ask the user to enter an afternoon **time** in 24 hour clock (e.g. 1350)\n",
        "*  use floor division to get the **hour** (ie divide by 100)  \n",
        "*  use modulus (%) to get the **minutes**  \n",
        "*  subtract 12 to get the 12 hour clock storing the result back in `hour`      \n",
        "*  print a message to say that It is `minutes` minutes past `hour` PM\n",
        "\n",
        "**Test Input**:  \n",
        "1350  \n",
        "\n",
        "**Expected output**:  \n",
        "It is 50 minutes past 1 PM\n",
        "\n",
        "*(Is it possible to use this code to get the right hour for a morning time?  You will do this in the section that allows selection depending on value)*\n",
        "\n"
      ]
    },
    {
      "cell_type": "code",
      "metadata": {
        "id": "dSxM7C1dXK9g",
        "colab": {
          "base_uri": "https://localhost:8080/"
        },
        "outputId": "a55d2d44-66ee-4ab1-bb4e-95b26e4909d7"
      },
      "source": [
        "def get_pm_minutes():\n",
        "  time =float(input(\"enter the time: \"))\n",
        "  hour =round(time//100-12)\n",
        "  minutes =round(time%100)\n",
        "  print(\"It is \", minutes, \" past \", hour, \" PM\")\n",
        "\n",
        "get_pm_minutes()"
      ],
      "execution_count": 16,
      "outputs": [
        {
          "output_type": "stream",
          "name": "stdout",
          "text": [
            "enter the time: 1545\n",
            "It is  45  past  3  PM\n"
          ]
        }
      ]
    },
    {
      "cell_type": "markdown",
      "metadata": {
        "id": "HUwYL72HSt5b"
      },
      "source": [
        "---\n",
        "### Exercise 10 - How many tins of beans?  \n",
        "\n",
        "**Scenario**\n",
        "\n",
        "A factory keeps a set of data relating to all the different size boxes it has available for shipping tins of beans.  They would like a look up that can take the dimensions of a box and calculate how many tins can be stacked in the box.  Tins will stand upright and will be stored in layers, so a number of tins will line the base, then the same number of tins will sit on top, until the box is full to the top, without space to fit any more layers.\n",
        "\n",
        "**Your task**\n",
        "\n",
        "Write a function called **calculate_tins()** that will calculate how many tins of beans will fit in a cardboard box. Bean tins are *11cm tall* and *8cm* diameter.  All tins will be standing up and can be stacked in layers.  \n",
        "\n",
        "*  ask the user to enter the **height**, **width** and **depth** of the box as follows: height - 24, width - 50, depth - 18     \n",
        "*  calculate the **number_of_tins** that can fit in the box   \n",
        "*  print the `number_of_tins` that can fit  \n",
        "\n",
        "*Hint: you will need to calculate the number of layers, and the number that will fit in each direction, the product (all of the numbers multiplied together) will tell you how many tins. All answers must be whole numbers*  \n",
        "\n",
        "**Test input**  \n",
        "24\n",
        "50\n",
        "18\n",
        "\n",
        "**Expected output**:  \n",
        "24   \n"
      ]
    },
    {
      "cell_type": "code",
      "metadata": {
        "id": "HNTLnqrDVdAW",
        "colab": {
          "base_uri": "https://localhost:8080/"
        },
        "outputId": "747e6060-a8eb-4ccd-8baa-62e5019edfc4"
      },
      "source": [
        "def calculate_tins():\n",
        "  height =float(input(\"Box height : \"))\n",
        "  width =float(input(\"Box width : \"))\n",
        "  depth =float(input(\"Box depth : \"))\n",
        "\n",
        "\n",
        "\n",
        "  tins_along_width =(width//8)\n",
        "  tins_along_depth =(depth//8)\n",
        "  how_many_layers =(height//11)\n",
        "  print(round(tins_along_width*tins_along_depth*how_many_layers))\n",
        "\n",
        "calculate_tins()"
      ],
      "execution_count": 23,
      "outputs": [
        {
          "output_type": "stream",
          "name": "stdout",
          "text": [
            "Box height : 24\n",
            "Box width : 50\n",
            "Box depth : 18\n",
            "24\n"
          ]
        }
      ]
    },
    {
      "cell_type": "markdown",
      "source": [
        "---\n",
        "# Takeaways from this worksheet\n",
        "* standard operators are used with numeric data to calculate new data\n",
        "* apart from the standard BIDMAS (Brackets, Indices, Division, Multiplication, Addition, Subtraction) other useful operators are floor division, which gets the whole number answer from a division, and modulus, which gets the remainder after the division.\n",
        "* the round() function can be used to round any float number to a number of decimal places.  If you don't specify how many decimal places, it will rount to a whole number.\n",
        "* although a lot of problems requires mathematical calculations, the problems are about working out the logic, so that you know what operations, and which data, to choose."
      ],
      "metadata": {
        "id": "nDIjwfdGvkH0"
      }
    },
    {
      "cell_type": "markdown",
      "source": [
        "---\n",
        "# Your thoughts on what you have learnt\n",
        "Please add some comments in the box below to reflect on what you have learnt through completing this worksheet, and any problems you encountered while doing so."
      ],
      "metadata": {
        "id": "Tvo9OlBlvg-1"
      }
    },
    {
      "cell_type": "markdown",
      "source": [
        "Very interesting as i had disregarded long division as pointless in life till now.\n",
        "\n",
        "starting to find it easier to get syntax mostly right first time"
      ],
      "metadata": {
        "id": "BZhKgyclviil"
      }
    }
  ]
}